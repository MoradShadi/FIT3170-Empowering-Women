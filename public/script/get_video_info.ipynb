{
 "cells": [
  {
   "cell_type": "code",
   "execution_count": null,
   "source": [
    "from selenium import webdriver \r\n",
    "import pandas as pd \r\n",
    "from selenium.webdriver.common.by import By \r\n",
    "from selenium.webdriver.support.ui import WebDriverWait \r\n",
    "from selenium.webdriver.support import expected_conditions as EC"
   ],
   "outputs": [],
   "metadata": {}
  },
  {
   "cell_type": "code",
   "execution_count": null,
   "source": [
    "driver = webdriver.Chrome(\"D:\\\\Installers\\\\chromedriver_win32\\\\chromedriver\") # change path here\r\n",
    "driver.get(\"https://www.youtube.com/results?search_query=%22email+management%22\")"
   ],
   "outputs": [],
   "metadata": {}
  },
  {
   "cell_type": "code",
   "execution_count": null,
   "source": [
    "user_data = driver.find_elements_by_xpath('//*[@id=\"video-title\"]')\r\n",
    "links = []\r\n",
    "for i in user_data:\r\n",
    "            links.append(i.get_attribute('href'))\r\n",
    "\r\n",
    "print(len(links))"
   ],
   "outputs": [],
   "metadata": {}
  },
  {
   "cell_type": "code",
   "execution_count": null,
   "source": [
    "df = pd.DataFrame(columns = ['link', 'title', 'description', 'views', 'category'])"
   ],
   "outputs": [],
   "metadata": {}
  },
  {
   "cell_type": "code",
   "execution_count": null,
   "source": [
    "for link in links:\r\n",
    "    if link is not None:\r\n",
    "        driver.implicitly_wait(10)\r\n",
    "        driver.get(link)\r\n",
    "\r\n",
    "        id = link.strip('https://www.youtube.com/watch?v=')\r\n",
    "        category = \"Email Management\"\r\n",
    "        description = []\r\n",
    "\r\n",
    "        title = driver.find_element_by_css_selector(\"h1.title yt-formatted-string\").text\r\n",
    "        description_elements = driver.find_elements_by_xpath(\"//*[@id='description']/yt-formatted-string/span\")\r\n",
    "        views = driver.find_element_by_xpath(\"//*[@id='count']/ytd-video-view-count-renderer/span[1]\").text\r\n",
    "        views = views.strip('views')\r\n",
    "\r\n",
    "        if ',' in views:\r\n",
    "            views = int(views.replace(',', ''))\r\n",
    "        else:\r\n",
    "            views = int(views)\r\n",
    "        \r\n",
    "        f = open(\"printlog.txt\", \"a\", encoding='utf-8')\r\n",
    "        f.write(\"Title - \" + title + \"\\n\")\r\n",
    "        f.write(\"Description - \")\r\n",
    "\r\n",
    "        for elem in description_elements:\r\n",
    "            description.append(elem.text)\r\n",
    "            f.write(elem.text + \"\\n\")\r\n",
    "        \r\n",
    "        f.write(\"Views - \" + str(views) + \"\\n\")\r\n",
    "        f.close()\r\n",
    "\r\n",
    "        df.loc[len(df)] = [id, title, description, views, category]"
   ],
   "outputs": [],
   "metadata": {}
  },
  {
   "cell_type": "code",
   "execution_count": null,
   "source": [],
   "outputs": [],
   "metadata": {}
  }
 ],
 "metadata": {
  "orig_nbformat": 4,
  "language_info": {
   "name": "python"
  }
 },
 "nbformat": 4,
 "nbformat_minor": 2
}